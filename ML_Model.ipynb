{
 "cells": [
  {
   "cell_type": "code",
   "execution_count": 1,
   "metadata": {},
   "outputs": [],
   "source": [
    "# Importing Libraries\n",
    "import pandas as pd\n",
    "from sklearn.compose import ColumnTransformer\n",
    "from sklearn.feature_extraction.text import TfidfVectorizer\n",
    "from sklearn.neighbors import NearestNeighbors\n",
    "from sklearn.pipeline import Pipeline\n",
    "import joblib\n"
   ]
  },
  {
   "cell_type": "code",
   "execution_count": 2,
   "metadata": {},
   "outputs": [
    {
     "data": {
      "text/html": [
       "<div>\n",
       "<style scoped>\n",
       "    .dataframe tbody tr th:only-of-type {\n",
       "        vertical-align: middle;\n",
       "    }\n",
       "\n",
       "    .dataframe tbody tr th {\n",
       "        vertical-align: top;\n",
       "    }\n",
       "\n",
       "    .dataframe thead th {\n",
       "        text-align: right;\n",
       "    }\n",
       "</style>\n",
       "<table border=\"1\" class=\"dataframe\">\n",
       "  <thead>\n",
       "    <tr style=\"text-align: right;\">\n",
       "      <th></th>\n",
       "      <th>item_id</th>\n",
       "      <th>title</th>\n",
       "      <th>genre</th>\n",
       "      <th>tags</th>\n",
       "      <th>developer</th>\n",
       "      <th>release_year</th>\n",
       "    </tr>\n",
       "  </thead>\n",
       "  <tbody>\n",
       "    <tr>\n",
       "      <th>0</th>\n",
       "      <td>761140</td>\n",
       "      <td>Lost Summoner Kitty</td>\n",
       "      <td>Indie</td>\n",
       "      <td>['Action', 'Casual', 'Indie', 'Simulation', 'S...</td>\n",
       "      <td>Kotoshiro</td>\n",
       "      <td>2018</td>\n",
       "    </tr>\n",
       "    <tr>\n",
       "      <th>1</th>\n",
       "      <td>643980</td>\n",
       "      <td>Ironbound</td>\n",
       "      <td>Indie</td>\n",
       "      <td>['Free to Play', 'Indie', 'RPG', 'Strategy']</td>\n",
       "      <td>Secret Level SRL</td>\n",
       "      <td>2018</td>\n",
       "    </tr>\n",
       "    <tr>\n",
       "      <th>2</th>\n",
       "      <td>670290</td>\n",
       "      <td>Real Pool 3D - Poolians</td>\n",
       "      <td>Indie</td>\n",
       "      <td>['Casual', 'Free to Play', 'Indie', 'Simulatio...</td>\n",
       "      <td>Poolians.com</td>\n",
       "      <td>2017</td>\n",
       "    </tr>\n",
       "  </tbody>\n",
       "</table>\n",
       "</div>"
      ],
      "text/plain": [
       "   item_id                    title  genre  \\\n",
       "0   761140      Lost Summoner Kitty  Indie   \n",
       "1   643980                Ironbound  Indie   \n",
       "2   670290  Real Pool 3D - Poolians  Indie   \n",
       "\n",
       "                                                tags         developer  \\\n",
       "0  ['Action', 'Casual', 'Indie', 'Simulation', 'S...         Kotoshiro   \n",
       "1       ['Free to Play', 'Indie', 'RPG', 'Strategy']  Secret Level SRL   \n",
       "2  ['Casual', 'Free to Play', 'Indie', 'Simulatio...      Poolians.com   \n",
       "\n",
       "   release_year  \n",
       "0          2018  \n",
       "1          2018  \n",
       "2          2017  "
      ]
     },
     "execution_count": 2,
     "metadata": {},
     "output_type": "execute_result"
    }
   ],
   "source": [
    "# Importing games dataset\n",
    "df_games = pd.read_parquet('datasets/processed/games.parquet')\n",
    "df_games = df_games.drop(['url', 'reviews_url'], axis=1)\n",
    "df_games.head(3)"
   ]
  },
  {
   "cell_type": "code",
   "execution_count": 4,
   "metadata": {},
   "outputs": [],
   "source": [
    "df_games = df_games.rename(columns={'release_year': 'year'})"
   ]
  },
  {
   "cell_type": "code",
   "execution_count": 5,
   "metadata": {},
   "outputs": [],
   "source": [
    "# Optimize data types for memory efficiency \n",
    "df_games[['item_id','year']] = df_games[['item_id','year']].astype(int)"
   ]
  },
  {
   "cell_type": "code",
   "execution_count": 3,
   "metadata": {},
   "outputs": [],
   "source": [
    "# Exporting API dataset\n",
    "df_games.to_parquet(\"API/datasets_API/df_games_model.parquet\")"
   ]
  },
  {
   "cell_type": "code",
   "execution_count": 5,
   "metadata": {},
   "outputs": [],
   "source": [
    "# Creating a TF-IDF vectorizer for the 'developer' column\n",
    "developer_vectorizer = TfidfVectorizer(stop_words='english')\n",
    "\n",
    "# Creating a TF-IDF vectorizer for the 'genre' column\n",
    "genre_vectorizer = TfidfVectorizer(stop_words='english')\n",
    "\n",
    "# Creating a TF-IDF vectorizer for the 'tags' column\n",
    "tags_vectorizer = TfidfVectorizer(stop_words='english')\n",
    "\n",
    "# Creating a transformation for the 'release_year' column (normalization)\n",
    "year_transformer = 'passthrough'  \n",
    "\n",
    "# Creating the column transformer\n",
    "preprocessor = ColumnTransformer(\n",
    "    transformers=[\n",
    "        ('developer', developer_vectorizer, 'developer'),\n",
    "        ('genre', genre_vectorizer, 'genre'),\n",
    "        ('tags', tags_vectorizer, 'tags'),\n",
    "        ('year', year_transformer, ['year'])\n",
    "    ],\n",
    "    remainder='drop'\n",
    ")\n"
   ]
  },
  {
   "cell_type": "code",
   "execution_count": 6,
   "metadata": {},
   "outputs": [
    {
     "data": {
      "text/html": [
       "<style>#sk-container-id-1 {color: black;}#sk-container-id-1 pre{padding: 0;}#sk-container-id-1 div.sk-toggleable {background-color: white;}#sk-container-id-1 label.sk-toggleable__label {cursor: pointer;display: block;width: 100%;margin-bottom: 0;padding: 0.3em;box-sizing: border-box;text-align: center;}#sk-container-id-1 label.sk-toggleable__label-arrow:before {content: \"▸\";float: left;margin-right: 0.25em;color: #696969;}#sk-container-id-1 label.sk-toggleable__label-arrow:hover:before {color: black;}#sk-container-id-1 div.sk-estimator:hover label.sk-toggleable__label-arrow:before {color: black;}#sk-container-id-1 div.sk-toggleable__content {max-height: 0;max-width: 0;overflow: hidden;text-align: left;background-color: #f0f8ff;}#sk-container-id-1 div.sk-toggleable__content pre {margin: 0.2em;color: black;border-radius: 0.25em;background-color: #f0f8ff;}#sk-container-id-1 input.sk-toggleable__control:checked~div.sk-toggleable__content {max-height: 200px;max-width: 100%;overflow: auto;}#sk-container-id-1 input.sk-toggleable__control:checked~label.sk-toggleable__label-arrow:before {content: \"▾\";}#sk-container-id-1 div.sk-estimator input.sk-toggleable__control:checked~label.sk-toggleable__label {background-color: #d4ebff;}#sk-container-id-1 div.sk-label input.sk-toggleable__control:checked~label.sk-toggleable__label {background-color: #d4ebff;}#sk-container-id-1 input.sk-hidden--visually {border: 0;clip: rect(1px 1px 1px 1px);clip: rect(1px, 1px, 1px, 1px);height: 1px;margin: -1px;overflow: hidden;padding: 0;position: absolute;width: 1px;}#sk-container-id-1 div.sk-estimator {font-family: monospace;background-color: #f0f8ff;border: 1px dotted black;border-radius: 0.25em;box-sizing: border-box;margin-bottom: 0.5em;}#sk-container-id-1 div.sk-estimator:hover {background-color: #d4ebff;}#sk-container-id-1 div.sk-parallel-item::after {content: \"\";width: 100%;border-bottom: 1px solid gray;flex-grow: 1;}#sk-container-id-1 div.sk-label:hover label.sk-toggleable__label {background-color: #d4ebff;}#sk-container-id-1 div.sk-serial::before {content: \"\";position: absolute;border-left: 1px solid gray;box-sizing: border-box;top: 0;bottom: 0;left: 50%;z-index: 0;}#sk-container-id-1 div.sk-serial {display: flex;flex-direction: column;align-items: center;background-color: white;padding-right: 0.2em;padding-left: 0.2em;position: relative;}#sk-container-id-1 div.sk-item {position: relative;z-index: 1;}#sk-container-id-1 div.sk-parallel {display: flex;align-items: stretch;justify-content: center;background-color: white;position: relative;}#sk-container-id-1 div.sk-item::before, #sk-container-id-1 div.sk-parallel-item::before {content: \"\";position: absolute;border-left: 1px solid gray;box-sizing: border-box;top: 0;bottom: 0;left: 50%;z-index: -1;}#sk-container-id-1 div.sk-parallel-item {display: flex;flex-direction: column;z-index: 1;position: relative;background-color: white;}#sk-container-id-1 div.sk-parallel-item:first-child::after {align-self: flex-end;width: 50%;}#sk-container-id-1 div.sk-parallel-item:last-child::after {align-self: flex-start;width: 50%;}#sk-container-id-1 div.sk-parallel-item:only-child::after {width: 0;}#sk-container-id-1 div.sk-dashed-wrapped {border: 1px dashed gray;margin: 0 0.4em 0.5em 0.4em;box-sizing: border-box;padding-bottom: 0.4em;background-color: white;}#sk-container-id-1 div.sk-label label {font-family: monospace;font-weight: bold;display: inline-block;line-height: 1.2em;}#sk-container-id-1 div.sk-label-container {text-align: center;}#sk-container-id-1 div.sk-container {/* jupyter's `normalize.less` sets `[hidden] { display: none; }` but bootstrap.min.css set `[hidden] { display: none !important; }` so we also need the `!important` here to be able to override the default hidden behavior on the sphinx rendered scikit-learn.org. See: https://github.com/scikit-learn/scikit-learn/issues/21755 */display: inline-block !important;position: relative;}#sk-container-id-1 div.sk-text-repr-fallback {display: none;}</style><div id=\"sk-container-id-1\" class=\"sk-top-container\"><div class=\"sk-text-repr-fallback\"><pre>Pipeline(steps=[(&#x27;preprocessor&#x27;,\n",
       "                 ColumnTransformer(transformers=[(&#x27;developer&#x27;,\n",
       "                                                  TfidfVectorizer(stop_words=&#x27;english&#x27;),\n",
       "                                                  &#x27;developer&#x27;),\n",
       "                                                 (&#x27;genre&#x27;,\n",
       "                                                  TfidfVectorizer(stop_words=&#x27;english&#x27;),\n",
       "                                                  &#x27;genre&#x27;),\n",
       "                                                 (&#x27;tags&#x27;,\n",
       "                                                  TfidfVectorizer(stop_words=&#x27;english&#x27;),\n",
       "                                                  &#x27;tags&#x27;),\n",
       "                                                 (&#x27;year&#x27;, &#x27;passthrough&#x27;,\n",
       "                                                  [&#x27;year&#x27;])])),\n",
       "                (&#x27;knn_model&#x27;,\n",
       "                 NearestNeighbors(algorithm=&#x27;brute&#x27;, metric=&#x27;cosine&#x27;,\n",
       "                                  n_neighbors=6))])</pre><b>In a Jupyter environment, please rerun this cell to show the HTML representation or trust the notebook. <br />On GitHub, the HTML representation is unable to render, please try loading this page with nbviewer.org.</b></div><div class=\"sk-container\" hidden><div class=\"sk-item sk-dashed-wrapped\"><div class=\"sk-label-container\"><div class=\"sk-label sk-toggleable\"><input class=\"sk-toggleable__control sk-hidden--visually\" id=\"sk-estimator-id-1\" type=\"checkbox\" ><label for=\"sk-estimator-id-1\" class=\"sk-toggleable__label sk-toggleable__label-arrow\">Pipeline</label><div class=\"sk-toggleable__content\"><pre>Pipeline(steps=[(&#x27;preprocessor&#x27;,\n",
       "                 ColumnTransformer(transformers=[(&#x27;developer&#x27;,\n",
       "                                                  TfidfVectorizer(stop_words=&#x27;english&#x27;),\n",
       "                                                  &#x27;developer&#x27;),\n",
       "                                                 (&#x27;genre&#x27;,\n",
       "                                                  TfidfVectorizer(stop_words=&#x27;english&#x27;),\n",
       "                                                  &#x27;genre&#x27;),\n",
       "                                                 (&#x27;tags&#x27;,\n",
       "                                                  TfidfVectorizer(stop_words=&#x27;english&#x27;),\n",
       "                                                  &#x27;tags&#x27;),\n",
       "                                                 (&#x27;year&#x27;, &#x27;passthrough&#x27;,\n",
       "                                                  [&#x27;year&#x27;])])),\n",
       "                (&#x27;knn_model&#x27;,\n",
       "                 NearestNeighbors(algorithm=&#x27;brute&#x27;, metric=&#x27;cosine&#x27;,\n",
       "                                  n_neighbors=6))])</pre></div></div></div><div class=\"sk-serial\"><div class=\"sk-item sk-dashed-wrapped\"><div class=\"sk-label-container\"><div class=\"sk-label sk-toggleable\"><input class=\"sk-toggleable__control sk-hidden--visually\" id=\"sk-estimator-id-2\" type=\"checkbox\" ><label for=\"sk-estimator-id-2\" class=\"sk-toggleable__label sk-toggleable__label-arrow\">preprocessor: ColumnTransformer</label><div class=\"sk-toggleable__content\"><pre>ColumnTransformer(transformers=[(&#x27;developer&#x27;,\n",
       "                                 TfidfVectorizer(stop_words=&#x27;english&#x27;),\n",
       "                                 &#x27;developer&#x27;),\n",
       "                                (&#x27;genre&#x27;, TfidfVectorizer(stop_words=&#x27;english&#x27;),\n",
       "                                 &#x27;genre&#x27;),\n",
       "                                (&#x27;tags&#x27;, TfidfVectorizer(stop_words=&#x27;english&#x27;),\n",
       "                                 &#x27;tags&#x27;),\n",
       "                                (&#x27;year&#x27;, &#x27;passthrough&#x27;, [&#x27;year&#x27;])])</pre></div></div></div><div class=\"sk-parallel\"><div class=\"sk-parallel-item\"><div class=\"sk-item\"><div class=\"sk-label-container\"><div class=\"sk-label sk-toggleable\"><input class=\"sk-toggleable__control sk-hidden--visually\" id=\"sk-estimator-id-3\" type=\"checkbox\" ><label for=\"sk-estimator-id-3\" class=\"sk-toggleable__label sk-toggleable__label-arrow\">developer</label><div class=\"sk-toggleable__content\"><pre>developer</pre></div></div></div><div class=\"sk-serial\"><div class=\"sk-item\"><div class=\"sk-estimator sk-toggleable\"><input class=\"sk-toggleable__control sk-hidden--visually\" id=\"sk-estimator-id-4\" type=\"checkbox\" ><label for=\"sk-estimator-id-4\" class=\"sk-toggleable__label sk-toggleable__label-arrow\">TfidfVectorizer</label><div class=\"sk-toggleable__content\"><pre>TfidfVectorizer(stop_words=&#x27;english&#x27;)</pre></div></div></div></div></div></div><div class=\"sk-parallel-item\"><div class=\"sk-item\"><div class=\"sk-label-container\"><div class=\"sk-label sk-toggleable\"><input class=\"sk-toggleable__control sk-hidden--visually\" id=\"sk-estimator-id-5\" type=\"checkbox\" ><label for=\"sk-estimator-id-5\" class=\"sk-toggleable__label sk-toggleable__label-arrow\">genre</label><div class=\"sk-toggleable__content\"><pre>genre</pre></div></div></div><div class=\"sk-serial\"><div class=\"sk-item\"><div class=\"sk-estimator sk-toggleable\"><input class=\"sk-toggleable__control sk-hidden--visually\" id=\"sk-estimator-id-6\" type=\"checkbox\" ><label for=\"sk-estimator-id-6\" class=\"sk-toggleable__label sk-toggleable__label-arrow\">TfidfVectorizer</label><div class=\"sk-toggleable__content\"><pre>TfidfVectorizer(stop_words=&#x27;english&#x27;)</pre></div></div></div></div></div></div><div class=\"sk-parallel-item\"><div class=\"sk-item\"><div class=\"sk-label-container\"><div class=\"sk-label sk-toggleable\"><input class=\"sk-toggleable__control sk-hidden--visually\" id=\"sk-estimator-id-7\" type=\"checkbox\" ><label for=\"sk-estimator-id-7\" class=\"sk-toggleable__label sk-toggleable__label-arrow\">tags</label><div class=\"sk-toggleable__content\"><pre>tags</pre></div></div></div><div class=\"sk-serial\"><div class=\"sk-item\"><div class=\"sk-estimator sk-toggleable\"><input class=\"sk-toggleable__control sk-hidden--visually\" id=\"sk-estimator-id-8\" type=\"checkbox\" ><label for=\"sk-estimator-id-8\" class=\"sk-toggleable__label sk-toggleable__label-arrow\">TfidfVectorizer</label><div class=\"sk-toggleable__content\"><pre>TfidfVectorizer(stop_words=&#x27;english&#x27;)</pre></div></div></div></div></div></div><div class=\"sk-parallel-item\"><div class=\"sk-item\"><div class=\"sk-label-container\"><div class=\"sk-label sk-toggleable\"><input class=\"sk-toggleable__control sk-hidden--visually\" id=\"sk-estimator-id-9\" type=\"checkbox\" ><label for=\"sk-estimator-id-9\" class=\"sk-toggleable__label sk-toggleable__label-arrow\">year</label><div class=\"sk-toggleable__content\"><pre>[&#x27;year&#x27;]</pre></div></div></div><div class=\"sk-serial\"><div class=\"sk-item\"><div class=\"sk-estimator sk-toggleable\"><input class=\"sk-toggleable__control sk-hidden--visually\" id=\"sk-estimator-id-10\" type=\"checkbox\" ><label for=\"sk-estimator-id-10\" class=\"sk-toggleable__label sk-toggleable__label-arrow\">passthrough</label><div class=\"sk-toggleable__content\"><pre>passthrough</pre></div></div></div></div></div></div></div></div><div class=\"sk-item\"><div class=\"sk-estimator sk-toggleable\"><input class=\"sk-toggleable__control sk-hidden--visually\" id=\"sk-estimator-id-11\" type=\"checkbox\" ><label for=\"sk-estimator-id-11\" class=\"sk-toggleable__label sk-toggleable__label-arrow\">NearestNeighbors</label><div class=\"sk-toggleable__content\"><pre>NearestNeighbors(algorithm=&#x27;brute&#x27;, metric=&#x27;cosine&#x27;, n_neighbors=6)</pre></div></div></div></div></div></div></div>"
      ],
      "text/plain": [
       "Pipeline(steps=[('preprocessor',\n",
       "                 ColumnTransformer(transformers=[('developer',\n",
       "                                                  TfidfVectorizer(stop_words='english'),\n",
       "                                                  'developer'),\n",
       "                                                 ('genre',\n",
       "                                                  TfidfVectorizer(stop_words='english'),\n",
       "                                                  'genre'),\n",
       "                                                 ('tags',\n",
       "                                                  TfidfVectorizer(stop_words='english'),\n",
       "                                                  'tags'),\n",
       "                                                 ('year', 'passthrough',\n",
       "                                                  ['year'])])),\n",
       "                ('knn_model',\n",
       "                 NearestNeighbors(algorithm='brute', metric='cosine',\n",
       "                                  n_neighbors=6))])"
      ]
     },
     "execution_count": 6,
     "metadata": {},
     "output_type": "execute_result"
    }
   ],
   "source": [
    "# Creating KNN model\n",
    "knn_model = NearestNeighbors(n_neighbors=6, algorithm='brute', metric='cosine')\n",
    "\n",
    "# Creating the preprocessing and KNN model pipeline\n",
    "pipeline = Pipeline([\n",
    "    ('preprocessor', preprocessor),\n",
    "    ('knn_model', knn_model)\n",
    "])\n",
    "\n",
    "# Fitting pipeline to the DataFrame\n",
    "pipeline.fit(df_games)"
   ]
  },
  {
   "cell_type": "code",
   "execution_count": 8,
   "metadata": {},
   "outputs": [
    {
     "data": {
      "text/plain": [
       "['API/recommendation_model.joblib']"
      ]
     },
     "execution_count": 8,
     "metadata": {},
     "output_type": "execute_result"
    }
   ],
   "source": [
    "# Saving model \n",
    "joblib.dump(pipeline, 'API/recommendation_model.joblib')"
   ]
  },
  {
   "cell_type": "code",
   "execution_count": 9,
   "metadata": {},
   "outputs": [],
   "source": [
    "# Function to get recommendations\n",
    "def game_recommendations(item_id):\n",
    "    '''\n",
    "    This function helps users discover games that are similar to a given game (specified by item_id)\n",
    "    by employing a K-nearest neighbors approach after transforming the input data.\n",
    "\n",
    "    Args:\n",
    "        item_id: from the game of wich we want to get recommendations based on (6 digits int).\n",
    "\n",
    "    Returns: \n",
    "        The generated dictionary of recommendations.\n",
    "    '''\n",
    "    # Ensure proper data types\n",
    "    if not isinstance(item_id, int) or not (000000 <= item_id <= 999999):\n",
    "        raise TypeError(f\"Expected 'item_id' to be an 6-digit integer, got {type(item_id)}.\")\n",
    "\n",
    "    # Check if item_id is in the data to be analyzed\n",
    "    if item_id not in df_games['item_id'].values:\n",
    "        return {'error': 'Item_id not found in the data to be analyzed.'}\n",
    "\n",
    "    # Find the index of the game in the DataFrame based on the item_id\n",
    "    game_info = df_games[df_games['item_id'] == item_id]\n",
    "\n",
    "    # Transform the game information with the preprocessor\n",
    "    transformed_input = pipeline.named_steps['preprocessor'].transform(game_info)\n",
    "\n",
    "    # Find the nearest games using KNN\n",
    "    distances, indices = pipeline.named_steps['knn_model'].kneighbors(transformed_input)\n",
    "\n",
    "    # Filter the current game\n",
    "    distances = distances.flatten()[1:]\n",
    "    indices = indices.flatten()[1:]\n",
    "\n",
    "    # Get recommended titles\n",
    "    recommended_titles = df_games.loc[indices, 'title'].tolist()\n",
    "\n",
    "    # Build and return dictionary\n",
    "    return [{'{}'.format(i + 1): title} for i, title in enumerate(recommended_titles)]\n"
   ]
  },
  {
   "cell_type": "code",
   "execution_count": 10,
   "metadata": {},
   "outputs": [
    {
     "data": {
      "text/plain": [
       "[{'1': 'Brief Karate Foolish'},\n",
       " {'2': 'Nightside Demo'},\n",
       " {'3': \"Defender's Quest: Valley of the Forgotten (DX edition)\"},\n",
       " {'4': 'Labyrinth - Starter Pack'},\n",
       " {'5': 'MINDNIGHT'}]"
      ]
     },
     "execution_count": 10,
     "metadata": {},
     "output_type": "execute_result"
    }
   ],
   "source": [
    "# Aplicattion example\n",
    "game_recommendations(643980)"
   ]
  }
 ],
 "metadata": {
  "kernelspec": {
   "display_name": "Python 3",
   "language": "python",
   "name": "python3"
  },
  "language_info": {
   "codemirror_mode": {
    "name": "ipython",
    "version": 3
   },
   "file_extension": ".py",
   "mimetype": "text/x-python",
   "name": "python",
   "nbconvert_exporter": "python",
   "pygments_lexer": "ipython3",
   "version": "3.11.7"
  }
 },
 "nbformat": 4,
 "nbformat_minor": 2
}
